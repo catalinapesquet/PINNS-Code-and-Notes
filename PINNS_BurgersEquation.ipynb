{
  "nbformat": 4,
  "nbformat_minor": 0,
  "metadata": {
    "colab": {
      "provenance": [],
      "gpuType": "T4",
      "authorship_tag": "ABX9TyM/x6oKBjoljD3b0AmragGW",
      "include_colab_link": true
    },
    "kernelspec": {
      "name": "python3",
      "display_name": "Python 3"
    },
    "language_info": {
      "name": "python"
    },
    "accelerator": "GPU"
  },
  "cells": [
    {
      "cell_type": "markdown",
      "metadata": {
        "id": "view-in-github",
        "colab_type": "text"
      },
      "source": [
        "<a href=\"https://colab.research.google.com/github/catalinapesquet/PINNS-Code-and-Notes/blob/main/PINNS_BurgersEquation.ipynb\" target=\"_parent\"><img src=\"https://colab.research.google.com/assets/colab-badge.svg\" alt=\"Open In Colab\"/></a>"
      ]
    },
    {
      "cell_type": "code",
      "execution_count": 1,
      "metadata": {
        "colab": {
          "base_uri": "https://localhost:8080/"
        },
        "id": "ROfQ_YkpTMKV",
        "outputId": "fd729f2e-781c-42ca-d949-ab0bc3e28487"
      },
      "outputs": [
        {
          "output_type": "stream",
          "name": "stdout",
          "text": [
            "Mounted at /content/gdrive\n"
          ]
        }
      ],
      "source": [
        "from google.colab import drive\n",
        "drive.mount('/content/gdrive')"
      ]
    },
    {
      "cell_type": "markdown",
      "source": [
        "# **Libraries**"
      ],
      "metadata": {
        "id": "yE6Km0IJVrbH"
      }
    },
    {
      "cell_type": "code",
      "source": [
        "import torch\n",
        "import torch.autograd as autograd # computation graph\n",
        "from torch import Tensor # tensor node in the computation graph\n",
        "import torch.nn as nn\n",
        "import torch.optim as optim\n",
        "\n",
        "import matplotlib.pyplot as plt\n",
        "import matplotlib.gridspec as gridspec\n",
        "from mpl_toolkits.axes_grid1 import make_axes_locatable\n",
        "from mpl_toolkits.mplot3d import Axes3D\n",
        "import matplotlib.ticker\n",
        "\n",
        "from sklearn.model_selection import train_test_split\n",
        "import numpy as np\n",
        "import time\n",
        "import scipy.io"
      ],
      "metadata": {
        "id": "OJoxEviCRo3b"
      },
      "execution_count": 2,
      "outputs": []
    },
    {
      "cell_type": "markdown",
      "source": [
        "# Auxiliary Functions"
      ],
      "metadata": {
        "id": "KEmDRsdhV0jF"
      }
    },
    {
      "cell_type": "code",
      "source": [
        "def plot3D(x, t, y):\n",
        "    # Ensure x and t are PyTorch tensors\n",
        "    if isinstance(x, np.ndarray):\n",
        "        x = torch.from_numpy(x)\n",
        "    if isinstance(t, np.ndarray):\n",
        "        t = torch.from_numpy(t)\n",
        "\n",
        "    # Squeeze tensors to remove extra dimensions\n",
        "    x_plot = x.squeeze(-1)  # Squeeze the last dimension if necessary\n",
        "    t_plot = t.squeeze(-1)\n",
        "\n",
        "    # Create a meshgrid using PyTorch\n",
        "    T, X = torch.meshgrid(x_plot, t_plot, indexing='ij')  # Explicitly set indexing\n",
        "\n",
        "    # Ensure y is also a tensor and convert to numpy for plotting\n",
        "    F_xt = y\n",
        "    if isinstance(F_xt, torch.Tensor):\n",
        "        F_xt = F_xt.numpy()\n",
        "\n",
        "    # Plot the 2D Contour\n",
        "    fig, ax = plt.subplots(1, 1)\n",
        "    cp = ax.contourf(T.numpy(), X.numpy(), F_xt, 20, cmap=\"rainbow\")  # Convert T, X to numpy\n",
        "    fig.colorbar(cp)\n",
        "    ax.set_title('F(x,t)')\n",
        "    ax.set_xlabel('t')\n",
        "    ax.set_ylabel('x')\n",
        "    plt.show()\n",
        "\n",
        "    # Plot the 3D Surface\n",
        "    fig = plt.figure()\n",
        "    ax = fig.add_subplot(111, projection='3d')\n",
        "    ax.plot_surface(T.numpy(), X.numpy(), F_xt, cmap=\"rainbow\")  # Convert T, X to numpy\n",
        "    ax.set_xlabel('t')\n",
        "    ax.set_ylabel('x')\n",
        "    ax.set_zlabel('f(x,t)')\n",
        "    plt.show()\n"
      ],
      "metadata": {
        "id": "_zZTtvKNV87p"
      },
      "execution_count": 3,
      "outputs": []
    },
    {
      "cell_type": "code",
      "source": [
        "def plot3D_Matrix(x,t,y):\n",
        "  X,T= x,t\n",
        "  F_xt = y\n",
        "  fig,ax=plt.subplots(1,1)\n",
        "  cp = ax.contourf(T,X, F_xt,20,cmap=\"rainbow\")\n",
        "  fig.colorbar(cp) # Add a colorbar to a plot\n",
        "  ax.set_title('F(x,t)')\n",
        "  ax.set_xlabel('t')\n",
        "  ax.set_ylabel('x')\n",
        "  plt.show()\n",
        "  ax = plt.axes(projection='3d')\n",
        "  ax.plot_surface(T.numpy(), X.numpy(), F_xt.numpy(),cmap=\"rainbow\")\n",
        "  ax.set_xlabel('t')\n",
        "  ax.set_ylabel('x')\n",
        "  ax.set_zlabel('f(x,t)')\n",
        "  plt.show()"
      ],
      "metadata": {
        "id": "Wc4nLSJgV-7W"
      },
      "execution_count": 4,
      "outputs": []
    },
    {
      "cell_type": "markdown",
      "source": [
        "# **PINNS for Inverse Problems or \"Data driven Discovery of Nonlinear Partial Differential Equations\"**\n",
        "\n",
        "For parameterized and nonlinear partial differential equations of the general form:\n",
        "$ u_t + N[u;\\lambda]= 0 $\n",
        "\n",
        "where, $u(x,t)$ is the hidden solution and $N[;\\lambda]$ is a nonlinear operator parameterized by $\\lambda$.\n",
        "\n",
        "\n",
        "In short: we will use a PINN to get $\\lambda$.\n",
        "\n",
        "\n",
        "Inverse Problem: Data -> Model's paramters so:\n",
        "Data -> PINN -> Model's parameters (i.e. our PDE parameters).\n",
        "\n"
      ],
      "metadata": {
        "id": "BT6uYRf_Vvpy"
      }
    },
    {
      "cell_type": "markdown",
      "source": [
        "## Inverse Problems\n",
        "\n",
        "**Forward Problem**: Model$→$Data (Predict)\n",
        "\n",
        "**Inverse Problem**: Data→Model (i.e., actually, we get the Model's parameters)\n",
        "\n",
        "A Neural Network is an example of an inverse problem:\n",
        "\n",
        "1.   We have an unknown model that follows:\n",
        "\n",
        "$$N(X)=W_n\\sigma_{n-1}(W_{n-1}\\sigma_{n-2}(...(W_2(W_1X+b_1)+b_2)+..)+b_{n-1})+b_n$$\n",
        "\n",
        "2.   We use our \"training\" data to get $W_i$ and $b_i$; for $i=1,2,..\\#layers$.\n",
        "\n",
        "\n",
        "Specifically:\n",
        "\n",
        "Data → Model i.e., estimate our model parameters (i,e., $W_i$ and $b_i$)\n"
      ],
      "metadata": {
        "id": "kFc3-AavJ6vu"
      }
    },
    {
      "cell_type": "markdown",
      "source": [
        "## **Problem Setup**\n",
        "\n",
        "**Burgers' Equation**\n",
        "\n",
        "Burgers' equation is a fundamental partial differential equation (PDE) that arises in various areas of applied mathematics, including fluid mechanics, nonlinear acoustics, gas dynamics, and traffic flow. In the mechanic field it would be related to the dynamic viscosity.\n",
        "\n",
        "$$\\frac{\\partial u}{\\partial t}+ \\lambda_1u\\frac{\\partial u}{\\partial x}=\\lambda_2\\frac{\\partial^2 u}{\\partial x^2} $$\n",
        "\n",
        "$$x\\in[-1,1]$$\n",
        "$$t\\in[0,1]$$"
      ],
      "metadata": {
        "id": "Pa-zJmW5IiaN"
      }
    },
    {
      "cell_type": "markdown",
      "source": [
        "## Analysis:\n",
        "\n",
        "\n",
        "\n",
        "\n",
        "\n"
      ],
      "metadata": {
        "id": "CCvRIsKKNj0B"
      }
    },
    {
      "cell_type": "markdown",
      "source": [
        "Let:\n",
        "\n",
        "$u_t = \\frac{\\partial u}{\\partial t}$\n",
        "\n",
        "$u_x = \\frac{\\partial u}{\\partial x}$\n",
        "\n",
        "$u_{xx} = \\frac{\\partial^2 u}{\\partial x^2}$\n",
        "\n",
        "$\\mathscr{N}[u;\\lambda]=\\lambda_1u u_x-\\lambda_2 u_{xx}$\n",
        "\n",
        "Our PDE is described as:\n",
        "\n",
        "$$u_t+\\lambda_1uu_x=\\lambda_2u_{xx}$$\n",
        "\n",
        "Or,\n",
        "\n",
        "$$u_t+\\mathscr{N}[u;\\lambda]=0$$\n",
        "\n",
        "So we can use a PINN to obtain $\\lambda$.\n",
        "\n",
        "In our case (from the reference solution) $\\lambda=[\\lambda_1,\\lambda_2]=[1,\\nu]=\\left[1,\\frac{1}{100\\pi}\\right]$\n",
        "\n",
        "Since N(x,t) is a function, we can obtain its derivatives: $\\frac{\\partial N}{\\partial t},\\frac{\\partial^2 N}{\\partial x^2}, etc.$.(Automatic Diferentiation)\n",
        "\n",
        "Assume:$$N(t,x)\\approx u(t,x)$$\n",
        "\n",
        "Then:\n",
        "\n",
        "$$N_t+\\lambda_1NN_x-\\lambda_2 N_{xx}\\approx u_t+uu_x-\\lambda u_{xx}=0$$\n",
        "\n",
        "And:\n",
        "\n",
        "$$N_t+\\lambda_1NN_x-\\lambda_2 N_{xx}\\approx 0$$\n",
        "\n",
        "\n",
        "We define this function as $f$:\n",
        "\n",
        "$$f(t,x)=N_t+\\lambda_1NN_x-\\lambda_2N_{xx}$$\n",
        "\n",
        "Remember our operator:\n",
        "\n",
        "$$f(t,x)=N_t+\\mathscr{N}[N,\\lambda]$$\n",
        "\n",
        "So:\n",
        "\n",
        "$$f(t,x)\\approx 0$$\n"
      ],
      "metadata": {
        "id": "UfyAciLaPFuw"
      }
    },
    {
      "cell_type": "markdown",
      "source": [
        "## Loss function\n",
        "\n",
        "We evaluate $f$ in a certain number of points ($N_u$) inside our domain $(x,t)$. Then we iteratively minimize a loss function related to $f$:\n",
        "\n",
        "$$MSE_f=\\frac{1}{N_u}\\sum^{N_u}_{i=1}|f(t_u^i,x_u^i)|^2$$\n",
        "\n",
        "Usually, the training data set is a set of points from which we know the answer. In our case, points inside our domain (i.e., interior points). **As this is an inverse problem, so we know the data.**\n",
        "\n",
        "Since we know the outcome, we select $N$ and compute the $MSE_u$** (compare it to the reference solution).\n",
        "\n",
        "$$MSE_{u}=\\frac{1}{N_u}\\sum^{N_u}_{i=1}|u(t_{u}^i,x_u^i)-N(t_{u}^i,x_u^i)|^2$$\n",
        "\n",
        "$$MSE=MSE_{u}+MSE_f$$\n",
        "\n",
        "NOTE: We minimize $MSE$ to obtain the $N$'s parameters (i.e, $W_i$ and $b_i$) and the ODE parameters (i.e., $\\lambda$)→ We will ask our neural network to find our $\\lambda$."
      ],
      "metadata": {
        "id": "m0KzyyQFPe5_"
      }
    },
    {
      "cell_type": "markdown",
      "source": [
        "# **Data**"
      ],
      "metadata": {
        "id": "rFbgb_fRU-0b"
      }
    },
    {
      "cell_type": "code",
      "source": [
        "# Device configuration\n",
        "device = torch.device('cuda' if torch.cuda.is_available() else 'cpu')\n",
        "device"
      ],
      "metadata": {
        "colab": {
          "base_uri": "https://localhost:8080/"
        },
        "id": "dJDLx5iuS0ZW",
        "outputId": "5e349fba-fc3b-4ea7-942e-3d434f1b60ad"
      },
      "execution_count": 5,
      "outputs": [
        {
          "output_type": "execute_result",
          "data": {
            "text/plain": [
              "device(type='cuda')"
            ]
          },
          "metadata": {},
          "execution_count": 5
        }
      ]
    },
    {
      "cell_type": "code",
      "source": [
        "# Set default dtype to float32\n",
        "torch.set_default_dtype(torch.float)\n",
        "\n",
        "torch.manual_seed(1234)\n",
        "np.random.seed(1234)"
      ],
      "metadata": {
        "id": "iYQ9jau_SOrB"
      },
      "execution_count": 6,
      "outputs": []
    },
    {
      "cell_type": "code",
      "source": [
        "data = scipy.io.loadmat('/content/gdrive/MyDrive/Burgers.mat')"
      ],
      "metadata": {
        "id": "IzNmQ93TXj7z"
      },
      "execution_count": 7,
      "outputs": []
    },
    {
      "cell_type": "code",
      "source": [
        "# Let's see the labels\n",
        "data\n",
        "\n",
        "# x: spacial domain, usol: real solution, t: temporal domain"
      ],
      "metadata": {
        "colab": {
          "base_uri": "https://localhost:8080/"
        },
        "collapsed": true,
        "id": "m6NSCFD3VTrE",
        "outputId": "f985bbb2-43dd-402d-e91f-2a7f3fd15082"
      },
      "execution_count": 8,
      "outputs": [
        {
          "output_type": "execute_result",
          "data": {
            "text/plain": [
              "{'__header__': b'MATLAB 5.0 MAT-file, Platform: PCWIN64, Created on: Thu Apr 30 11:20:07 2020',\n",
              " '__version__': '1.0',\n",
              " '__globals__': [],\n",
              " 't': array([[0.  ],\n",
              "        [0.01],\n",
              "        [0.02],\n",
              "        [0.03],\n",
              "        [0.04],\n",
              "        [0.05],\n",
              "        [0.06],\n",
              "        [0.07],\n",
              "        [0.08],\n",
              "        [0.09],\n",
              "        [0.1 ],\n",
              "        [0.11],\n",
              "        [0.12],\n",
              "        [0.13],\n",
              "        [0.14],\n",
              "        [0.15],\n",
              "        [0.16],\n",
              "        [0.17],\n",
              "        [0.18],\n",
              "        [0.19],\n",
              "        [0.2 ],\n",
              "        [0.21],\n",
              "        [0.22],\n",
              "        [0.23],\n",
              "        [0.24],\n",
              "        [0.25],\n",
              "        [0.26],\n",
              "        [0.27],\n",
              "        [0.28],\n",
              "        [0.29],\n",
              "        [0.3 ],\n",
              "        [0.31],\n",
              "        [0.32],\n",
              "        [0.33],\n",
              "        [0.34],\n",
              "        [0.35],\n",
              "        [0.36],\n",
              "        [0.37],\n",
              "        [0.38],\n",
              "        [0.39],\n",
              "        [0.4 ],\n",
              "        [0.41],\n",
              "        [0.42],\n",
              "        [0.43],\n",
              "        [0.44],\n",
              "        [0.45],\n",
              "        [0.46],\n",
              "        [0.47],\n",
              "        [0.48],\n",
              "        [0.49],\n",
              "        [0.5 ],\n",
              "        [0.51],\n",
              "        [0.52],\n",
              "        [0.53],\n",
              "        [0.54],\n",
              "        [0.55],\n",
              "        [0.56],\n",
              "        [0.57],\n",
              "        [0.58],\n",
              "        [0.59],\n",
              "        [0.6 ],\n",
              "        [0.61],\n",
              "        [0.62],\n",
              "        [0.63],\n",
              "        [0.64],\n",
              "        [0.65],\n",
              "        [0.66],\n",
              "        [0.67],\n",
              "        [0.68],\n",
              "        [0.69],\n",
              "        [0.7 ],\n",
              "        [0.71],\n",
              "        [0.72],\n",
              "        [0.73],\n",
              "        [0.74],\n",
              "        [0.75],\n",
              "        [0.76],\n",
              "        [0.77],\n",
              "        [0.78],\n",
              "        [0.79],\n",
              "        [0.8 ],\n",
              "        [0.81],\n",
              "        [0.82],\n",
              "        [0.83],\n",
              "        [0.84],\n",
              "        [0.85],\n",
              "        [0.86],\n",
              "        [0.87],\n",
              "        [0.88],\n",
              "        [0.89],\n",
              "        [0.9 ],\n",
              "        [0.91],\n",
              "        [0.92],\n",
              "        [0.93],\n",
              "        [0.94],\n",
              "        [0.95],\n",
              "        [0.96],\n",
              "        [0.97],\n",
              "        [0.98],\n",
              "        [0.99]]),\n",
              " 'usol': array([[ 1.22464680e-16,  2.44998591e-16,  4.68513468e-16, ...,\n",
              "          6.83745124e-16,  5.42687705e-16,  6.18231285e-16],\n",
              "        [ 2.46374492e-02,  2.38801771e-02,  2.31684472e-02, ...,\n",
              "          6.07646171e-03,  6.02971733e-03,  5.98368707e-03],\n",
              "        [ 4.92599411e-02,  4.77471402e-02,  4.63251755e-02, ...,\n",
              "          1.21528658e-02,  1.20593788e-02,  1.19673200e-02],\n",
              "        ...,\n",
              "        [-4.92599411e-02, -4.77471402e-02, -4.63251755e-02, ...,\n",
              "         -1.21528658e-02, -1.20593788e-02, -1.19673200e-02],\n",
              "        [-2.46374492e-02, -2.38801771e-02, -2.31684472e-02, ...,\n",
              "         -6.07646171e-03, -6.02971733e-03, -5.98368707e-03],\n",
              "        [-1.22464680e-16, -2.44984094e-16, -4.57971208e-16, ...,\n",
              "         -3.04880908e-16, -2.79715714e-16, -3.09694253e-16]]),\n",
              " 'x': array([[-1.        ],\n",
              "        [-0.99215686],\n",
              "        [-0.98431373],\n",
              "        [-0.97647059],\n",
              "        [-0.96862745],\n",
              "        [-0.96078431],\n",
              "        [-0.95294118],\n",
              "        [-0.94509804],\n",
              "        [-0.9372549 ],\n",
              "        [-0.92941176],\n",
              "        [-0.92156863],\n",
              "        [-0.91372549],\n",
              "        [-0.90588235],\n",
              "        [-0.89803922],\n",
              "        [-0.89019608],\n",
              "        [-0.88235294],\n",
              "        [-0.8745098 ],\n",
              "        [-0.86666667],\n",
              "        [-0.85882353],\n",
              "        [-0.85098039],\n",
              "        [-0.84313725],\n",
              "        [-0.83529412],\n",
              "        [-0.82745098],\n",
              "        [-0.81960784],\n",
              "        [-0.81176471],\n",
              "        [-0.80392157],\n",
              "        [-0.79607843],\n",
              "        [-0.78823529],\n",
              "        [-0.78039216],\n",
              "        [-0.77254902],\n",
              "        [-0.76470588],\n",
              "        [-0.75686275],\n",
              "        [-0.74901961],\n",
              "        [-0.74117647],\n",
              "        [-0.73333333],\n",
              "        [-0.7254902 ],\n",
              "        [-0.71764706],\n",
              "        [-0.70980392],\n",
              "        [-0.70196078],\n",
              "        [-0.69411765],\n",
              "        [-0.68627451],\n",
              "        [-0.67843137],\n",
              "        [-0.67058824],\n",
              "        [-0.6627451 ],\n",
              "        [-0.65490196],\n",
              "        [-0.64705882],\n",
              "        [-0.63921569],\n",
              "        [-0.63137255],\n",
              "        [-0.62352941],\n",
              "        [-0.61568627],\n",
              "        [-0.60784314],\n",
              "        [-0.6       ],\n",
              "        [-0.59215686],\n",
              "        [-0.58431373],\n",
              "        [-0.57647059],\n",
              "        [-0.56862745],\n",
              "        [-0.56078431],\n",
              "        [-0.55294118],\n",
              "        [-0.54509804],\n",
              "        [-0.5372549 ],\n",
              "        [-0.52941176],\n",
              "        [-0.52156863],\n",
              "        [-0.51372549],\n",
              "        [-0.50588235],\n",
              "        [-0.49803922],\n",
              "        [-0.49019608],\n",
              "        [-0.48235294],\n",
              "        [-0.4745098 ],\n",
              "        [-0.46666667],\n",
              "        [-0.45882353],\n",
              "        [-0.45098039],\n",
              "        [-0.44313725],\n",
              "        [-0.43529412],\n",
              "        [-0.42745098],\n",
              "        [-0.41960784],\n",
              "        [-0.41176471],\n",
              "        [-0.40392157],\n",
              "        [-0.39607843],\n",
              "        [-0.38823529],\n",
              "        [-0.38039216],\n",
              "        [-0.37254902],\n",
              "        [-0.36470588],\n",
              "        [-0.35686275],\n",
              "        [-0.34901961],\n",
              "        [-0.34117647],\n",
              "        [-0.33333333],\n",
              "        [-0.3254902 ],\n",
              "        [-0.31764706],\n",
              "        [-0.30980392],\n",
              "        [-0.30196078],\n",
              "        [-0.29411765],\n",
              "        [-0.28627451],\n",
              "        [-0.27843137],\n",
              "        [-0.27058824],\n",
              "        [-0.2627451 ],\n",
              "        [-0.25490196],\n",
              "        [-0.24705882],\n",
              "        [-0.23921569],\n",
              "        [-0.23137255],\n",
              "        [-0.22352941],\n",
              "        [-0.21568627],\n",
              "        [-0.20784314],\n",
              "        [-0.2       ],\n",
              "        [-0.19215686],\n",
              "        [-0.18431373],\n",
              "        [-0.17647059],\n",
              "        [-0.16862745],\n",
              "        [-0.16078431],\n",
              "        [-0.15294118],\n",
              "        [-0.14509804],\n",
              "        [-0.1372549 ],\n",
              "        [-0.12941176],\n",
              "        [-0.12156863],\n",
              "        [-0.11372549],\n",
              "        [-0.10588235],\n",
              "        [-0.09803922],\n",
              "        [-0.09019608],\n",
              "        [-0.08235294],\n",
              "        [-0.0745098 ],\n",
              "        [-0.06666667],\n",
              "        [-0.05882353],\n",
              "        [-0.05098039],\n",
              "        [-0.04313725],\n",
              "        [-0.03529412],\n",
              "        [-0.02745098],\n",
              "        [-0.01960784],\n",
              "        [-0.01176471],\n",
              "        [-0.00392157],\n",
              "        [ 0.00392157],\n",
              "        [ 0.01176471],\n",
              "        [ 0.01960784],\n",
              "        [ 0.02745098],\n",
              "        [ 0.03529412],\n",
              "        [ 0.04313725],\n",
              "        [ 0.05098039],\n",
              "        [ 0.05882353],\n",
              "        [ 0.06666667],\n",
              "        [ 0.0745098 ],\n",
              "        [ 0.08235294],\n",
              "        [ 0.09019608],\n",
              "        [ 0.09803922],\n",
              "        [ 0.10588235],\n",
              "        [ 0.11372549],\n",
              "        [ 0.12156863],\n",
              "        [ 0.12941176],\n",
              "        [ 0.1372549 ],\n",
              "        [ 0.14509804],\n",
              "        [ 0.15294118],\n",
              "        [ 0.16078431],\n",
              "        [ 0.16862745],\n",
              "        [ 0.17647059],\n",
              "        [ 0.18431373],\n",
              "        [ 0.19215686],\n",
              "        [ 0.2       ],\n",
              "        [ 0.20784314],\n",
              "        [ 0.21568627],\n",
              "        [ 0.22352941],\n",
              "        [ 0.23137255],\n",
              "        [ 0.23921569],\n",
              "        [ 0.24705882],\n",
              "        [ 0.25490196],\n",
              "        [ 0.2627451 ],\n",
              "        [ 0.27058824],\n",
              "        [ 0.27843137],\n",
              "        [ 0.28627451],\n",
              "        [ 0.29411765],\n",
              "        [ 0.30196078],\n",
              "        [ 0.30980392],\n",
              "        [ 0.31764706],\n",
              "        [ 0.3254902 ],\n",
              "        [ 0.33333333],\n",
              "        [ 0.34117647],\n",
              "        [ 0.34901961],\n",
              "        [ 0.35686275],\n",
              "        [ 0.36470588],\n",
              "        [ 0.37254902],\n",
              "        [ 0.38039216],\n",
              "        [ 0.38823529],\n",
              "        [ 0.39607843],\n",
              "        [ 0.40392157],\n",
              "        [ 0.41176471],\n",
              "        [ 0.41960784],\n",
              "        [ 0.42745098],\n",
              "        [ 0.43529412],\n",
              "        [ 0.44313725],\n",
              "        [ 0.45098039],\n",
              "        [ 0.45882353],\n",
              "        [ 0.46666667],\n",
              "        [ 0.4745098 ],\n",
              "        [ 0.48235294],\n",
              "        [ 0.49019608],\n",
              "        [ 0.49803922],\n",
              "        [ 0.50588235],\n",
              "        [ 0.51372549],\n",
              "        [ 0.52156863],\n",
              "        [ 0.52941176],\n",
              "        [ 0.5372549 ],\n",
              "        [ 0.54509804],\n",
              "        [ 0.55294118],\n",
              "        [ 0.56078431],\n",
              "        [ 0.56862745],\n",
              "        [ 0.57647059],\n",
              "        [ 0.58431373],\n",
              "        [ 0.59215686],\n",
              "        [ 0.6       ],\n",
              "        [ 0.60784314],\n",
              "        [ 0.61568627],\n",
              "        [ 0.62352941],\n",
              "        [ 0.63137255],\n",
              "        [ 0.63921569],\n",
              "        [ 0.64705882],\n",
              "        [ 0.65490196],\n",
              "        [ 0.6627451 ],\n",
              "        [ 0.67058824],\n",
              "        [ 0.67843137],\n",
              "        [ 0.68627451],\n",
              "        [ 0.69411765],\n",
              "        [ 0.70196078],\n",
              "        [ 0.70980392],\n",
              "        [ 0.71764706],\n",
              "        [ 0.7254902 ],\n",
              "        [ 0.73333333],\n",
              "        [ 0.74117647],\n",
              "        [ 0.74901961],\n",
              "        [ 0.75686275],\n",
              "        [ 0.76470588],\n",
              "        [ 0.77254902],\n",
              "        [ 0.78039216],\n",
              "        [ 0.78823529],\n",
              "        [ 0.79607843],\n",
              "        [ 0.80392157],\n",
              "        [ 0.81176471],\n",
              "        [ 0.81960784],\n",
              "        [ 0.82745098],\n",
              "        [ 0.83529412],\n",
              "        [ 0.84313725],\n",
              "        [ 0.85098039],\n",
              "        [ 0.85882353],\n",
              "        [ 0.86666667],\n",
              "        [ 0.8745098 ],\n",
              "        [ 0.88235294],\n",
              "        [ 0.89019608],\n",
              "        [ 0.89803922],\n",
              "        [ 0.90588235],\n",
              "        [ 0.91372549],\n",
              "        [ 0.92156863],\n",
              "        [ 0.92941176],\n",
              "        [ 0.9372549 ],\n",
              "        [ 0.94509804],\n",
              "        [ 0.95294118],\n",
              "        [ 0.96078431],\n",
              "        [ 0.96862745],\n",
              "        [ 0.97647059],\n",
              "        [ 0.98431373],\n",
              "        [ 0.99215686],\n",
              "        [ 1.        ]])}"
            ]
          },
          "metadata": {},
          "execution_count": 8
        }
      ]
    },
    {
      "cell_type": "code",
      "source": [
        "x = data['x']\n",
        "t = data['t']\n",
        "usol = data['usol']"
      ],
      "metadata": {
        "id": "96k89-ovVqk9"
      },
      "execution_count": 9,
      "outputs": []
    },
    {
      "cell_type": "code",
      "source": [
        "plot3D(x, t, usol)"
      ],
      "metadata": {
        "colab": {
          "base_uri": "https://localhost:8080/",
          "height": 870
        },
        "id": "BekLZkTpWGCf",
        "outputId": "005fdb46-b964-4760-8352-af4f7a260972"
      },
      "execution_count": 10,
      "outputs": [
        {
          "output_type": "display_data",
          "data": {
            "text/plain": [
              "<Figure size 640x480 with 2 Axes>"
            ],
            "image/png": "[encoded data removed]"
          },
          "metadata": {}
        },
        {
          "output_type": "display_data",
          "data": {
            "text/plain": [
              "<Figure size 640x480 with 1 Axes>"
            ],
            "image/png": "[encoded data removed]"
          },
          "metadata": {}
        }
      ]
    },
    {
      "cell_type": "markdown",
      "source": [
        "## Prepare the data"
      ],
      "metadata": {
        "id": "o0jMfjS9Xquh"
      }
    },
    {
      "cell_type": "code",
      "source": [
        "print(x.shape, t.shape)"
      ],
      "metadata": {
        "colab": {
          "base_uri": "https://localhost:8080/"
        },
        "id": "OkFVt_Z6XtDu",
        "outputId": "d3c34f3d-e69d-441d-eadc-c03a88209543"
      },
      "execution_count": 11,
      "outputs": [
        {
          "output_type": "stream",
          "name": "stdout",
          "text": [
            "(256, 1) (100, 1)\n"
          ]
        }
      ]
    },
    {
      "cell_type": "code",
      "source": [
        "X, T = np.meshgrid(x,t)\n",
        "X.shape, T.shape"
      ],
      "metadata": {
        "colab": {
          "base_uri": "https://localhost:8080/"
        },
        "id": "fU8wQvgGXwk6",
        "outputId": "15727b78-655c-4431-8de0-fbd8260891e4"
      },
      "execution_count": 12,
      "outputs": [
        {
          "output_type": "execute_result",
          "data": {
            "text/plain": [
              "((100, 256), (100, 256))"
            ]
          },
          "metadata": {},
          "execution_count": 12
        }
      ]
    },
    {
      "cell_type": "code",
      "source": [
        "# We need to vectorize our input and output variables\n",
        "X_true = np.hstack((X.flatten()[:, None], T.flatten()[:, None]))\n",
        "U_true = usol.flatten('F')[:,None]\n",
        "X_true.shape"
      ],
      "metadata": {
        "colab": {
          "base_uri": "https://localhost:8080/"
        },
        "id": "0xVFabZFYzC4",
        "outputId": "21668438-441e-44e2-82fe-b6c4bbe04d0c"
      },
      "execution_count": 13,
      "outputs": [
        {
          "output_type": "execute_result",
          "data": {
            "text/plain": [
              "(25600, 2)"
            ]
          },
          "metadata": {},
          "execution_count": 13
        }
      ]
    },
    {
      "cell_type": "code",
      "source": [
        "# lower bound\n",
        "lb = X_true[0]\n",
        "\n",
        "# upper bound\n",
        "ub = X_true[-1]\n",
        "\n",
        "lb, ub"
      ],
      "metadata": {
        "colab": {
          "base_uri": "https://localhost:8080/"
        },
        "id": "1ht8gVuxZPLu",
        "outputId": "b2f90b82-b4c8-44c5-9aa2-b1fb22626f89"
      },
      "execution_count": 14,
      "outputs": [
        {
          "output_type": "execute_result",
          "data": {
            "text/plain": [
              "(array([-1.,  0.]), array([1.  , 0.99]))"
            ]
          },
          "metadata": {},
          "execution_count": 14
        }
      ]
    },
    {
      "cell_type": "markdown",
      "source": [
        "## Training data"
      ],
      "metadata": {
        "id": "iDowZVz1Za-i"
      }
    },
    {
      "cell_type": "code",
      "source": [
        "# how many points we have\n",
        "total_points = len(x)*len(t)\n",
        "total_points"
      ],
      "metadata": {
        "colab": {
          "base_uri": "https://localhost:8080/"
        },
        "id": "CCxb7iFOZZyU",
        "outputId": "d821efcd-9cb6-445c-fdf7-f68a1e8e2473"
      },
      "execution_count": 15,
      "outputs": [
        {
          "output_type": "execute_result",
          "data": {
            "text/plain": [
              "25600"
            ]
          },
          "metadata": {},
          "execution_count": 15
        }
      ]
    },
    {
      "cell_type": "code",
      "source": [
        "N_u = 1000\n",
        "idx = np.random.choice(total_points, N_u, replace=False)"
      ],
      "metadata": {
        "id": "HyZIuDw5ZtOy"
      },
      "execution_count": 16,
      "outputs": []
    },
    {
      "cell_type": "code",
      "source": [
        "print(\"We have\",total_points,\"points. We will select\",X_train_Nu.shape[0],\"points to train our model.\")"
      ],
      "metadata": {
        "colab": {
          "base_uri": "https://localhost:8080/"
        },
        "id": "N2ib358kippi",
        "outputId": "cabd667a-6d26-48f2-9d1a-0e1f47323d20"
      },
      "execution_count": 22,
      "outputs": [
        {
          "output_type": "stream",
          "name": "stdout",
          "text": [
            "We have 25600 points. We will select 1000 points to train our model.\n"
          ]
        }
      ]
    },
    {
      "cell_type": "code",
      "source": [
        "# Array that contains those random points\n",
        "X_train_Nu = X_true[idx]\n",
        "U_train_Nu = U_true[idx]"
      ],
      "metadata": {
        "id": "sJePgFRsZusg"
      },
      "execution_count": 17,
      "outputs": []
    },
    {
      "cell_type": "code",
      "source": [
        "# Send all arrays to device\n",
        "X_train_Nu = torch.from_numpy(X_train_Nu).float().to(device)\n",
        "U_train_Nu = torch.from_numpy(U_train_Nu).float().to(device)\n",
        "X_true = torch.from_numpy(X_true).float().to(device)\n",
        "U_true = torch.from_numpy(U_true).float().to(device)"
      ],
      "metadata": {
        "id": "CYpM18r8aigi"
      },
      "execution_count": 19,
      "outputs": []
    },
    {
      "cell_type": "markdown",
      "source": [
        "## Initialize our parameters"
      ],
      "metadata": {
        "id": "FwMhrRX1bYiN"
      }
    },
    {
      "cell_type": "markdown",
      "source": [
        "Our operator is:\n",
        "\n",
        "$$\\mathscr{N}[u;\\lambda]=\\lambda_1u u_x-\\lambda_2 u_{xx}$$\n",
        "\n",
        "We know that:\n",
        "\n",
        "$$\\lambda_1=1$$\n",
        "\n",
        "$$\\lambda_2=\\nu=\\frac{1}{100\\pi}=0.003183$$"
      ],
      "metadata": {
        "id": "E4nkyJ4YjkwE"
      }
    },
    {
      "cell_type": "code",
      "source": [
        "lambda1=2.0\n",
        "lambda2=0.02"
      ],
      "metadata": {
        "id": "wJSr-u12jUOj"
      },
      "execution_count": 28,
      "outputs": []
    },
    {
      "cell_type": "markdown",
      "source": [
        "# **Neural Network**\n",
        "\n"
      ],
      "metadata": {
        "id": "o1TuJJlIbRJN"
      }
    },
    {
      "cell_type": "code",
      "source": [
        "class FCN():\n",
        "  def __init__(self, layers):\n",
        "\n",
        "    'Initiative iterator'\n",
        "    self.iter = 0\n",
        "    'Initialize our new parameters i.e. lambda (Inverse problem)'\n",
        "    self.lambda1 = torch.tensor(lambda1)"
      ],
      "metadata": {
        "id": "jhtf1M1QmT_E"
      },
      "execution_count": null,
      "outputs": []
    },
    {
      "cell_type": "code",
      "source": [
        "class DNN(nn.Module):\n",
        "    def __init__(self,layers):\n",
        "        super().__init__() #call __init__ from parent class\n",
        "\n",
        "        'activation function'\n",
        "        self.activation = nn.Tanh()\n",
        "\n",
        "        'Initialize neural network as a list using nn.Modulelist'\n",
        "        self.linears = nn.ModuleList([nn.Linear(layers[i], layers[i+1]) for i in range(len(layers)-1)])\n",
        "\n",
        "        'Xavier Normal Initialization'\n",
        "        for i in range(len(layers)-1):\n",
        "\n",
        "            nn.init.xavier_normal_(self.linears[i].weight.data, gain=1.0)\n",
        "\n",
        "            # set biases to zero\n",
        "            nn.init.zeros_(self.linears[i].bias.data)\n",
        "\n",
        "    'foward pass'\n",
        "    def forward(self,x):\n",
        "\n",
        "        if torch.is_tensor(x) != True:\n",
        "            x = torch.from_numpy(x)\n",
        "\n",
        "        u_b = torch.from_numpy(ub).float().to(device)\n",
        "        l_b = torch.from_numpy(lb).float().to(device)\n",
        "\n",
        "        #preprocessing input\n",
        "        x = (x - l_b)/(u_b - l_b) #feature scaling\n",
        "\n",
        "        #convert to float\n",
        "        a = x.float()\n",
        "\n",
        "        for i in range(len(layers)-2):\n",
        "\n",
        "            z = self.linears[i](a)\n",
        "\n",
        "            a = self.activation(z)\n",
        "\n",
        "        a = self.linears[-1](a)\n",
        "\n",
        "        return a"
      ],
      "metadata": {
        "id": "fXSsW7r2bkcT"
      },
      "execution_count": 20,
      "outputs": []
    },
    {
      "cell_type": "markdown",
      "source": [
        "## Trainning the NN"
      ],
      "metadata": {
        "id": "89EnbyJRi-NT"
      }
    },
    {
      "cell_type": "code",
      "source": [
        "layers = np.array([2,20,20,20,20,20,20,20,20,1]) #8 hidden layers"
      ],
      "metadata": {
        "id": "I-Oxf688jA8z"
      },
      "execution_count": 23,
      "outputs": []
    },
    {
      "cell_type": "code",
      "source": [
        "PINN = DNN(layers)\n",
        "PINN"
      ],
      "metadata": {
        "colab": {
          "base_uri": "https://localhost:8080/"
        },
        "id": "qZwczaoXjFXq",
        "outputId": "9bdeba89-c165-4414-f3f8-a53d79bbee6e"
      },
      "execution_count": 25,
      "outputs": [
        {
          "output_type": "execute_result",
          "data": {
            "text/plain": [
              "DNN(\n",
              "  (activation): Tanh()\n",
              "  (linears): ModuleList(\n",
              "    (0): Linear(in_features=2, out_features=20, bias=True)\n",
              "    (1-7): 7 x Linear(in_features=20, out_features=20, bias=True)\n",
              "    (8): Linear(in_features=20, out_features=1, bias=True)\n",
              "  )\n",
              ")"
            ]
          },
          "metadata": {},
          "execution_count": 25
        }
      ]
    },
    {
      "cell_type": "code",
      "source": [],
      "metadata": {
        "id": "FqVbeIfbjNmp"
      },
      "execution_count": null,
      "outputs": []
    }
  ]
}